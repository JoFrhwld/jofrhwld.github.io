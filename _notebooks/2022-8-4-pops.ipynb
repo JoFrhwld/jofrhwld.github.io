{
  "cells": [
    {
      "cell_type": "raw",
      "metadata": {},
      "source": [
        "---\n",
        "title: Dealing with mic pops in recordings\n",
        "author: Josef Fruehwald\n",
        "date: 2022-8-4\n",
        "layout: post\n",
        "category: blogpost\n",
        "tags:\n",
        "  - audio\n",
        "  - phonetics\n",
        "  - methods\n",
        "---"
      ],
      "id": "dee2a429"
    },
    {
      "cell_type": "code",
      "metadata": {},
      "source": [
        "import librosa\n",
        "# The OMP error that comes up is apparently an issue with some dependency that we can just ignore, as users, for now\n",
        "import librosa.display\n",
        "import IPython\n",
        "\n",
        "import numpy as np\n",
        "\n",
        "from matplotlib import pyplot as plt\n",
        "plt.rcParams['axes.facecolor']=(1.0, 1.0, 1.0, 0)\n",
        "plt.rcParams['savefig.facecolor']=(1.0, 1.0, 1.0, 0)"
      ],
      "id": "f73afad9",
      "execution_count": null,
      "outputs": []
    },
    {
      "cell_type": "code",
      "metadata": {},
      "source": [
        "# reading in the audoo at 16k sampling\n",
        "wav, sr = librosa.load(\"../data/fireplace_short.wav\", sr = 16000)\n",
        "wav = librosa.util.normalize(wav)"
      ],
      "id": "ed86a1ca",
      "execution_count": null,
      "outputs": []
    },
    {
      "cell_type": "code",
      "metadata": {},
      "source": [
        "IPython.display.Audio(data = wav, rate = sr)"
      ],
      "id": "b59a857e",
      "execution_count": null,
      "outputs": []
    }
  ],
  "metadata": {
    "kernelspec": {
      "name": "python3",
      "language": "python",
      "display_name": "Python 3 (ipykernel)"
    }
  },
  "nbformat": 4,
  "nbformat_minor": 5
}
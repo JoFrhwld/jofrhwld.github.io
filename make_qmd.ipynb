{
 "cells": [
  {
   "cell_type": "raw",
   "metadata": {},
   "source": [
    "---\n",
    "title: \"Make research pages\"\n",
    "execution:\n",
    "    eval: false\n",
    "---"
   ]
  },
  {
   "cell_type": "code",
   "execution_count": null,
   "metadata": {},
   "outputs": [],
   "source": [
    "#| eval: false\n",
    "! pip install pyzotero\n",
    "! pip install git+https://github.com/JoFrhwld/zotero2qmd.git"
   ]
  },
  {
   "cell_type": "markdown",
   "metadata": {},
   "source": [
    "`zoetero2qmd` is a quick and dirty package I wrote to convert the output from `pyzotero` to compatible data structures for quarto headers."
   ]
  },
  {
   "cell_type": "code",
   "execution_count": 2,
   "metadata": {},
   "outputs": [],
   "source": [
    "from pyzotero import zotero\n",
    "from zotero2qmd.zotero2qmd import item2main, main2qmd, filter_pubs\n",
    "from collections import Counter\n",
    "import re\n",
    "import yaml\n",
    "from pathlib import Path"
   ]
  },
  {
   "cell_type": "markdown",
   "metadata": {},
   "source": [
    "If you are reusing this code, you'll need to get your own API key: [pyzotero getting started](https://pyzotero.readthedocs.io/en/latest/#getting-started-short-version)"
   ]
  },
  {
   "cell_type": "code",
   "execution_count": 3,
   "metadata": {},
   "outputs": [],
   "source": [
    "keypath = Path(\".zotero\")\n",
    "with keypath.open() as keyfile:\n",
    "    key_text = keyfile.readline().strip()\n",
    "zot = zotero.Zotero(library_id='7642731', library_type='user', api_key=key_text)    "
   ]
  },
  {
   "cell_type": "markdown",
   "metadata": {},
   "source": [
    "The `zotero.Zotero.publications()` method pulls down all citations you've added to \"My Publications\"."
   ]
  },
  {
   "cell_type": "code",
   "execution_count": 4,
   "metadata": {},
   "outputs": [],
   "source": [
    "pubs = zot.publications()"
   ]
  },
  {
   "cell_type": "markdown",
   "metadata": {},
   "source": [
    "Everything that isn't a talk is going into one big pile for now. I'll figure out what to do with talks later. Also, I don't know why I started using \"main\" to refer to the publication info."
   ]
  },
  {
   "cell_type": "code",
   "execution_count": 5,
   "metadata": {},
   "outputs": [],
   "source": [
    "filtered_pubs = filter_pubs(pubs)\n",
    "all_mains = [item2main(x) for x in filtered_pubs]"
   ]
  },
  {
   "cell_type": "markdown",
   "metadata": {},
   "source": [
    "Each dictionary can be yaml dumped into valid quarto headings."
   ]
  },
  {
   "cell_type": "code",
   "execution_count": 6,
   "metadata": {},
   "outputs": [
    {
     "data": {
      "text/plain": [
       "{'params': {'key': 'BNWT43F9', 'notes': 'DOI: 10.5281/ZENODO.10212099'},\n",
       " 'author': [{'name': {'given': 'Josef', 'family': 'Fruehwald'}},\n",
       "  {'name': {'given': 'Santiago', 'family': 'Barreda'}}],\n",
       " 'title': 'fasttrackpy',\n",
       " 'date': '2023-11-28',\n",
       " 'date-format': 'YYYY',\n",
       " 'description': 'v0.3.0',\n",
       " 'abstract': 'This is a python implementation of the FastTrack method.',\n",
       " 'citation': {'type': 'software',\n",
       "  'issued': '2023-11-28',\n",
       "  'url': 'https://fasttrackiverse.github.io/fasttrackpy/',\n",
       "  'version': 'v0.3.0'}}"
      ]
     },
     "execution_count": 6,
     "metadata": {},
     "output_type": "execute_result"
    }
   ],
   "source": [
    "all_mains[0]"
   ]
  },
  {
   "cell_type": "markdown",
   "metadata": {},
   "source": [
    "It took a bit of work to generate mostly legible but unique file names. I decided to append the Zotero `key` value to each."
   ]
  },
  {
   "cell_type": "code",
   "execution_count": 7,
   "metadata": {},
   "outputs": [],
   "source": [
    "def make_file_names(all_mains):\n",
    "    first_aut = [x[\"author\"][0][\"name\"][\"family\"] for x in all_mains]\n",
    "    years = [x[\"date\"].split(\"-\")[0] for x in all_mains]\n",
    "    keys = [x[\"params\"][\"key\"] for x in all_mains]\n",
    "\n",
    "    all_stem = [f\"{aut}_{year}_{key}\" for aut, year, key in zip(first_aut, years, keys)]\n",
    "\n",
    "    all_stem = [re.sub(r\"_$\", \"\", x) for x in all_stem]\n",
    "    return all_stem"
   ]
  },
  {
   "cell_type": "code",
   "execution_count": 8,
   "metadata": {},
   "outputs": [],
   "source": [
    "all_stems = make_file_names(all_mains)"
   ]
  },
  {
   "cell_type": "markdown",
   "metadata": {},
   "source": [
    "I started dumping everything into \"papers\"... so now I'm stuck with it."
   ]
  },
  {
   "cell_type": "code",
   "execution_count": 9,
   "metadata": {},
   "outputs": [],
   "source": [
    "out_path = Path(\"research\",\"papers\")"
   ]
  },
  {
   "cell_type": "markdown",
   "metadata": {},
   "source": [
    "I only want to write new files, since I may manually edit the results here and there."
   ]
  },
  {
   "cell_type": "code",
   "execution_count": 10,
   "metadata": {},
   "outputs": [],
   "source": [
    "for stem, item in zip(all_stems, all_mains):\n",
    "    out_file = out_path.joinpath(stem).with_suffix(\".qmd\")\n",
    "    if not out_file.exists():\n",
    "        with out_file.open(mode = \"w\"):\n",
    "            qmd_string = \"---\\n\"+yaml.dump(item)+\"\\n---\"\n",
    "            out_file.write_text(qmd_string)"
   ]
  }
 ],
 "metadata": {
  "kernelspec": {
   "display_name": "site",
   "language": "python",
   "name": "python3"
  },
  "language_info": {
   "codemirror_mode": {
    "name": "ipython",
    "version": 3
   },
   "file_extension": ".py",
   "mimetype": "text/x-python",
   "name": "python",
   "nbconvert_exporter": "python",
   "pygments_lexer": "ipython3",
   "version": "3.11.4"
  }
 },
 "nbformat": 4,
 "nbformat_minor": 2
}

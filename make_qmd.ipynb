{
 "cells": [
  {
   "cell_type": "raw",
   "metadata": {},
   "source": [
    "---\n",
    "execute: false\n",
    "---"
   ]
  },
  {
   "cell_type": "code",
   "execution_count": 1,
   "metadata": {},
   "outputs": [],
   "source": [
    "from pyzotero import zotero\n",
    "from zotero2qmd.zotero2qmd import item2main, main2qmd, filter_pubs\n",
    "from collections import Counter\n",
    "import re\n",
    "import yaml\n",
    "from pathlib import Path"
   ]
  },
  {
   "cell_type": "code",
   "execution_count": 2,
   "metadata": {},
   "outputs": [],
   "source": [
    "keypath = Path(\".zotero\")\n",
    "with keypath.open() as keyfile:\n",
    "    key_text = keyfile.readline().strip()"
   ]
  },
  {
   "cell_type": "code",
   "execution_count": 3,
   "metadata": {},
   "outputs": [],
   "source": [
    "zot = zotero.Zotero(library_id='7642731', library_type='user', api_key=key_text)"
   ]
  },
  {
   "cell_type": "code",
   "execution_count": 4,
   "metadata": {},
   "outputs": [],
   "source": [
    "pubs = zot.publications()"
   ]
  },
  {
   "cell_type": "code",
   "execution_count": 5,
   "metadata": {},
   "outputs": [],
   "source": [
    "filtered_pubs = filter_pubs(pubs)"
   ]
  },
  {
   "cell_type": "code",
   "execution_count": 6,
   "metadata": {},
   "outputs": [],
   "source": [
    "all_mains = [item2main(x) for x in filtered_pubs]"
   ]
  },
  {
   "cell_type": "code",
   "execution_count": 7,
   "metadata": {},
   "outputs": [
    {
     "data": {
      "text/plain": [
       "{'params': {'key': 'M3E7A7LS', 'notes': ''},\n",
       " 'author': [{'name': {'given': 'Ingrid', 'family': 'Rosenfelder'}},\n",
       "  {'name': {'given': 'Josef', 'family': 'Fruehwald'}},\n",
       "  {'name': {'given': 'Keelan', 'family': 'Evanini'}},\n",
       "  {'name': {'given': 'Jiahong', 'family': 'Yuan'}}],\n",
       " 'title': 'FAVE (Forced Alignment and Vowel Extraction) Program Suite.',\n",
       " 'date': '2011',\n",
       " 'date-format': 'YYYY',\n",
       " 'description': 'v0.0.0',\n",
       " 'abstract': '',\n",
       " 'citation': {'type': 'software',\n",
       "  'issued': '2011',\n",
       "  'url': 'http://fave.ling.upenn.edu/',\n",
       "  'version': 'v0.0.0'}}"
      ]
     },
     "execution_count": 7,
     "metadata": {},
     "output_type": "execute_result"
    }
   ],
   "source": [
    "all_mains[0]"
   ]
  },
  {
   "cell_type": "code",
   "execution_count": 8,
   "metadata": {},
   "outputs": [],
   "source": [
    "def make_file_names(all_mains):\n",
    "    first_aut = [x[\"author\"][0][\"name\"][\"family\"] for x in all_mains]\n",
    "    years = [x[\"date\"].split(\"-\")[0] for x in all_mains]\n",
    "    keys = [x[\"params\"][\"key\"] for x in all_mains]\n",
    "\n",
    "    all_stem = [f\"{aut}_{year}_{key}\" for aut, year, init in zip(first_aut, years, keys)]\n",
    "\n",
    "    all_stem = [re.sub(r\"_$\", \"\", x) for x in all_stem]\n",
    "    return all_stem"
   ]
  },
  {
   "cell_type": "code",
   "execution_count": 9,
   "metadata": {},
   "outputs": [],
   "source": [
    "all_stems = make_file_names(all_mains)"
   ]
  },
  {
   "cell_type": "code",
   "execution_count": 11,
   "metadata": {},
   "outputs": [
    {
     "data": {
      "text/plain": [
       "[\"Rosenfelder_2011_['M3E7A7LS', 'K57PJ2RE', 'TRXWWXD2', 'GY5I9QMZ', 'URYFVWHE', 'GH2LZM4Y', 'LIGPGR5R', 'U5C56KNR', 'QZP9CAP8', 'W28LR5KT', 'LPQN5R3M', 'H347UNLS', 'ETG527QQ', '7HNEQZ7H', 'IZLBZKZV', 'MG8DFJEK', '733Q4MMI', 'TCTQU8FS', 'FU9RXCUV', '8ERVHBSG', 'TJI9T9W6', '258NF56V', '34D4IRNY', 'H3BZPAT7']\",\n",
       " \"Rosenfelder_2015_['M3E7A7LS', 'K57PJ2RE', 'TRXWWXD2', 'GY5I9QMZ', 'URYFVWHE', 'GH2LZM4Y', 'LIGPGR5R', 'U5C56KNR', 'QZP9CAP8', 'W28LR5KT', 'LPQN5R3M', 'H347UNLS', 'ETG527QQ', '7HNEQZ7H', 'IZLBZKZV', 'MG8DFJEK', '733Q4MMI', 'TCTQU8FS', 'FU9RXCUV', '8ERVHBSG', 'TJI9T9W6', '258NF56V', '34D4IRNY', 'H3BZPAT7']\",\n",
       " \"Rosenfelder_2022_['M3E7A7LS', 'K57PJ2RE', 'TRXWWXD2', 'GY5I9QMZ', 'URYFVWHE', 'GH2LZM4Y', 'LIGPGR5R', 'U5C56KNR', 'QZP9CAP8', 'W28LR5KT', 'LPQN5R3M', 'H347UNLS', 'ETG527QQ', '7HNEQZ7H', 'IZLBZKZV', 'MG8DFJEK', '733Q4MMI', 'TCTQU8FS', 'FU9RXCUV', '8ERVHBSG', 'TJI9T9W6', '258NF56V', '34D4IRNY', 'H3BZPAT7']\",\n",
       " \"Fruehwald_2023_['M3E7A7LS', 'K57PJ2RE', 'TRXWWXD2', 'GY5I9QMZ', 'URYFVWHE', 'GH2LZM4Y', 'LIGPGR5R', 'U5C56KNR', 'QZP9CAP8', 'W28LR5KT', 'LPQN5R3M', 'H347UNLS', 'ETG527QQ', '7HNEQZ7H', 'IZLBZKZV', 'MG8DFJEK', '733Q4MMI', 'TCTQU8FS', 'FU9RXCUV', '8ERVHBSG', 'TJI9T9W6', '258NF56V', '34D4IRNY', 'H3BZPAT7']\",\n",
       " \"Fruehwald_2019_['M3E7A7LS', 'K57PJ2RE', 'TRXWWXD2', 'GY5I9QMZ', 'URYFVWHE', 'GH2LZM4Y', 'LIGPGR5R', 'U5C56KNR', 'QZP9CAP8', 'W28LR5KT', 'LPQN5R3M', 'H347UNLS', 'ETG527QQ', '7HNEQZ7H', 'IZLBZKZV', 'MG8DFJEK', '733Q4MMI', 'TCTQU8FS', 'FU9RXCUV', '8ERVHBSG', 'TJI9T9W6', '258NF56V', '34D4IRNY', 'H3BZPAT7']\",\n",
       " \"Tanner_2020_['M3E7A7LS', 'K57PJ2RE', 'TRXWWXD2', 'GY5I9QMZ', 'URYFVWHE', 'GH2LZM4Y', 'LIGPGR5R', 'U5C56KNR', 'QZP9CAP8', 'W28LR5KT', 'LPQN5R3M', 'H347UNLS', 'ETG527QQ', '7HNEQZ7H', 'IZLBZKZV', 'MG8DFJEK', '733Q4MMI', 'TCTQU8FS', 'FU9RXCUV', '8ERVHBSG', 'TJI9T9W6', '258NF56V', '34D4IRNY', 'H3BZPAT7']\",\n",
       " \"Purse_2022_['M3E7A7LS', 'K57PJ2RE', 'TRXWWXD2', 'GY5I9QMZ', 'URYFVWHE', 'GH2LZM4Y', 'LIGPGR5R', 'U5C56KNR', 'QZP9CAP8', 'W28LR5KT', 'LPQN5R3M', 'H347UNLS', 'ETG527QQ', '7HNEQZ7H', 'IZLBZKZV', 'MG8DFJEK', '733Q4MMI', 'TCTQU8FS', 'FU9RXCUV', '8ERVHBSG', 'TJI9T9W6', '258NF56V', '34D4IRNY', 'H3BZPAT7']\",\n",
       " \"Mielke_2019_['M3E7A7LS', 'K57PJ2RE', 'TRXWWXD2', 'GY5I9QMZ', 'URYFVWHE', 'GH2LZM4Y', 'LIGPGR5R', 'U5C56KNR', 'QZP9CAP8', 'W28LR5KT', 'LPQN5R3M', 'H347UNLS', 'ETG527QQ', '7HNEQZ7H', 'IZLBZKZV', 'MG8DFJEK', '733Q4MMI', 'TCTQU8FS', 'FU9RXCUV', '8ERVHBSG', 'TJI9T9W6', '258NF56V', '34D4IRNY', 'H3BZPAT7']\",\n",
       " \"Labov_2013_['M3E7A7LS', 'K57PJ2RE', 'TRXWWXD2', 'GY5I9QMZ', 'URYFVWHE', 'GH2LZM4Y', 'LIGPGR5R', 'U5C56KNR', 'QZP9CAP8', 'W28LR5KT', 'LPQN5R3M', 'H347UNLS', 'ETG527QQ', '7HNEQZ7H', 'IZLBZKZV', 'MG8DFJEK', '733Q4MMI', 'TCTQU8FS', 'FU9RXCUV', '8ERVHBSG', 'TJI9T9W6', '258NF56V', '34D4IRNY', 'H3BZPAT7']\",\n",
       " \"Fruehwald_2013_['M3E7A7LS', 'K57PJ2RE', 'TRXWWXD2', 'GY5I9QMZ', 'URYFVWHE', 'GH2LZM4Y', 'LIGPGR5R', 'U5C56KNR', 'QZP9CAP8', 'W28LR5KT', 'LPQN5R3M', 'H347UNLS', 'ETG527QQ', '7HNEQZ7H', 'IZLBZKZV', 'MG8DFJEK', '733Q4MMI', 'TCTQU8FS', 'FU9RXCUV', '8ERVHBSG', 'TJI9T9W6', '258NF56V', '34D4IRNY', 'H3BZPAT7']\",\n",
       " \"Fruehwald_2011_['M3E7A7LS', 'K57PJ2RE', 'TRXWWXD2', 'GY5I9QMZ', 'URYFVWHE', 'GH2LZM4Y', 'LIGPGR5R', 'U5C56KNR', 'QZP9CAP8', 'W28LR5KT', 'LPQN5R3M', 'H347UNLS', 'ETG527QQ', '7HNEQZ7H', 'IZLBZKZV', 'MG8DFJEK', '733Q4MMI', 'TCTQU8FS', 'FU9RXCUV', '8ERVHBSG', 'TJI9T9W6', '258NF56V', '34D4IRNY', 'H3BZPAT7']\",\n",
       " \"Fruehwald_2022_['M3E7A7LS', 'K57PJ2RE', 'TRXWWXD2', 'GY5I9QMZ', 'URYFVWHE', 'GH2LZM4Y', 'LIGPGR5R', 'U5C56KNR', 'QZP9CAP8', 'W28LR5KT', 'LPQN5R3M', 'H347UNLS', 'ETG527QQ', '7HNEQZ7H', 'IZLBZKZV', 'MG8DFJEK', '733Q4MMI', 'TCTQU8FS', 'FU9RXCUV', '8ERVHBSG', 'TJI9T9W6', '258NF56V', '34D4IRNY', 'H3BZPAT7']\",\n",
       " \"Fruehwald_2017_['M3E7A7LS', 'K57PJ2RE', 'TRXWWXD2', 'GY5I9QMZ', 'URYFVWHE', 'GH2LZM4Y', 'LIGPGR5R', 'U5C56KNR', 'QZP9CAP8', 'W28LR5KT', 'LPQN5R3M', 'H347UNLS', 'ETG527QQ', '7HNEQZ7H', 'IZLBZKZV', 'MG8DFJEK', '733Q4MMI', 'TCTQU8FS', 'FU9RXCUV', '8ERVHBSG', 'TJI9T9W6', '258NF56V', '34D4IRNY', 'H3BZPAT7']\",\n",
       " \"Fruehwald_2012_['M3E7A7LS', 'K57PJ2RE', 'TRXWWXD2', 'GY5I9QMZ', 'URYFVWHE', 'GH2LZM4Y', 'LIGPGR5R', 'U5C56KNR', 'QZP9CAP8', 'W28LR5KT', 'LPQN5R3M', 'H347UNLS', 'ETG527QQ', '7HNEQZ7H', 'IZLBZKZV', 'MG8DFJEK', '733Q4MMI', 'TCTQU8FS', 'FU9RXCUV', '8ERVHBSG', 'TJI9T9W6', '258NF56V', '34D4IRNY', 'H3BZPAT7']\",\n",
       " \"Fruehwald_2008_['M3E7A7LS', 'K57PJ2RE', 'TRXWWXD2', 'GY5I9QMZ', 'URYFVWHE', 'GH2LZM4Y', 'LIGPGR5R', 'U5C56KNR', 'QZP9CAP8', 'W28LR5KT', 'LPQN5R3M', 'H347UNLS', 'ETG527QQ', '7HNEQZ7H', 'IZLBZKZV', 'MG8DFJEK', '733Q4MMI', 'TCTQU8FS', 'FU9RXCUV', '8ERVHBSG', 'TJI9T9W6', '258NF56V', '34D4IRNY', 'H3BZPAT7']\",\n",
       " \"Fruehwald_2007_['M3E7A7LS', 'K57PJ2RE', 'TRXWWXD2', 'GY5I9QMZ', 'URYFVWHE', 'GH2LZM4Y', 'LIGPGR5R', 'U5C56KNR', 'QZP9CAP8', 'W28LR5KT', 'LPQN5R3M', 'H347UNLS', 'ETG527QQ', '7HNEQZ7H', 'IZLBZKZV', 'MG8DFJEK', '733Q4MMI', 'TCTQU8FS', 'FU9RXCUV', '8ERVHBSG', 'TJI9T9W6', '258NF56V', '34D4IRNY', 'H3BZPAT7']\",\n",
       " \"Boyd_2021_['M3E7A7LS', 'K57PJ2RE', 'TRXWWXD2', 'GY5I9QMZ', 'URYFVWHE', 'GH2LZM4Y', 'LIGPGR5R', 'U5C56KNR', 'QZP9CAP8', 'W28LR5KT', 'LPQN5R3M', 'H347UNLS', 'ETG527QQ', '7HNEQZ7H', 'IZLBZKZV', 'MG8DFJEK', '733Q4MMI', 'TCTQU8FS', 'FU9RXCUV', '8ERVHBSG', 'TJI9T9W6', '258NF56V', '34D4IRNY', 'H3BZPAT7']\",\n",
       " \"Fruehwald_2016_['M3E7A7LS', 'K57PJ2RE', 'TRXWWXD2', 'GY5I9QMZ', 'URYFVWHE', 'GH2LZM4Y', 'LIGPGR5R', 'U5C56KNR', 'QZP9CAP8', 'W28LR5KT', 'LPQN5R3M', 'H347UNLS', 'ETG527QQ', '7HNEQZ7H', 'IZLBZKZV', 'MG8DFJEK', '733Q4MMI', 'TCTQU8FS', 'FU9RXCUV', '8ERVHBSG', 'TJI9T9W6', '258NF56V', '34D4IRNY', 'H3BZPAT7']\",\n",
       " \"Wieling_2016_['M3E7A7LS', 'K57PJ2RE', 'TRXWWXD2', 'GY5I9QMZ', 'URYFVWHE', 'GH2LZM4Y', 'LIGPGR5R', 'U5C56KNR', 'QZP9CAP8', 'W28LR5KT', 'LPQN5R3M', 'H347UNLS', 'ETG527QQ', '7HNEQZ7H', 'IZLBZKZV', 'MG8DFJEK', '733Q4MMI', 'TCTQU8FS', 'FU9RXCUV', '8ERVHBSG', 'TJI9T9W6', '258NF56V', '34D4IRNY', 'H3BZPAT7']\",\n",
       " \"Sneller_2019_['M3E7A7LS', 'K57PJ2RE', 'TRXWWXD2', 'GY5I9QMZ', 'URYFVWHE', 'GH2LZM4Y', 'LIGPGR5R', 'U5C56KNR', 'QZP9CAP8', 'W28LR5KT', 'LPQN5R3M', 'H347UNLS', 'ETG527QQ', '7HNEQZ7H', 'IZLBZKZV', 'MG8DFJEK', '733Q4MMI', 'TCTQU8FS', 'FU9RXCUV', '8ERVHBSG', 'TJI9T9W6', '258NF56V', '34D4IRNY', 'H3BZPAT7']\",\n",
       " \"Fruehwald_2015_['M3E7A7LS', 'K57PJ2RE', 'TRXWWXD2', 'GY5I9QMZ', 'URYFVWHE', 'GH2LZM4Y', 'LIGPGR5R', 'U5C56KNR', 'QZP9CAP8', 'W28LR5KT', 'LPQN5R3M', 'H347UNLS', 'ETG527QQ', '7HNEQZ7H', 'IZLBZKZV', 'MG8DFJEK', '733Q4MMI', 'TCTQU8FS', 'FU9RXCUV', '8ERVHBSG', 'TJI9T9W6', '258NF56V', '34D4IRNY', 'H3BZPAT7']\",\n",
       " \"Fruehwald_2017_['M3E7A7LS', 'K57PJ2RE', 'TRXWWXD2', 'GY5I9QMZ', 'URYFVWHE', 'GH2LZM4Y', 'LIGPGR5R', 'U5C56KNR', 'QZP9CAP8', 'W28LR5KT', 'LPQN5R3M', 'H347UNLS', 'ETG527QQ', '7HNEQZ7H', 'IZLBZKZV', 'MG8DFJEK', '733Q4MMI', 'TCTQU8FS', 'FU9RXCUV', '8ERVHBSG', 'TJI9T9W6', '258NF56V', '34D4IRNY', 'H3BZPAT7']\",\n",
       " \"Fruehwald_2016_['M3E7A7LS', 'K57PJ2RE', 'TRXWWXD2', 'GY5I9QMZ', 'URYFVWHE', 'GH2LZM4Y', 'LIGPGR5R', 'U5C56KNR', 'QZP9CAP8', 'W28LR5KT', 'LPQN5R3M', 'H347UNLS', 'ETG527QQ', '7HNEQZ7H', 'IZLBZKZV', 'MG8DFJEK', '733Q4MMI', 'TCTQU8FS', 'FU9RXCUV', '8ERVHBSG', 'TJI9T9W6', '258NF56V', '34D4IRNY', 'H3BZPAT7']\",\n",
       " \"Fruehwald_2013_['M3E7A7LS', 'K57PJ2RE', 'TRXWWXD2', 'GY5I9QMZ', 'URYFVWHE', 'GH2LZM4Y', 'LIGPGR5R', 'U5C56KNR', 'QZP9CAP8', 'W28LR5KT', 'LPQN5R3M', 'H347UNLS', 'ETG527QQ', '7HNEQZ7H', 'IZLBZKZV', 'MG8DFJEK', '733Q4MMI', 'TCTQU8FS', 'FU9RXCUV', '8ERVHBSG', 'TJI9T9W6', '258NF56V', '34D4IRNY', 'H3BZPAT7']\"]"
      ]
     },
     "execution_count": 11,
     "metadata": {},
     "output_type": "execute_result"
    }
   ],
   "source": [
    "all_stems"
   ]
  },
  {
   "cell_type": "code",
   "execution_count": 10,
   "metadata": {},
   "outputs": [],
   "source": [
    "out_path = Path(\"research\",\"papers\")"
   ]
  },
  {
   "cell_type": "code",
   "execution_count": 10,
   "metadata": {},
   "outputs": [],
   "source": [
    "for stem, item in zip(all_stems, all_mains):\n",
    "    out_file = out_path.joinpath(stem).with_suffix(\".qmd\")\n",
    "    if not out_file.exists():\n",
    "        with out_file.open(mode = \"w\"):\n",
    "            qmd_string = \"---\\n\"+yaml.dump(item)+\"\\n---\"\n",
    "            out_file.write_text(qmd_string)"
   ]
  },
  {
   "cell_type": "code",
   "execution_count": null,
   "metadata": {},
   "outputs": [],
   "source": []
  }
 ],
 "metadata": {
  "kernelspec": {
   "display_name": "site",
   "language": "python",
   "name": "python3"
  },
  "language_info": {
   "codemirror_mode": {
    "name": "ipython",
    "version": 3
   },
   "file_extension": ".py",
   "mimetype": "text/x-python",
   "name": "python",
   "nbconvert_exporter": "python",
   "pygments_lexer": "ipython3",
   "version": "3.11.4"
  }
 },
 "nbformat": 4,
 "nbformat_minor": 2
}

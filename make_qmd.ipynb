{
 "cells": [
  {
   "cell_type": "raw",
   "metadata": {},
   "source": [
    "---\n",
    "execute: false\n",
    "---"
   ]
  },
  {
   "cell_type": "code",
   "execution_count": 1,
   "metadata": {},
   "outputs": [],
   "source": [
    "from pyzotero import zotero\n",
    "from zotero2qmd.zotero2qmd import item2main, main2qmd, filter_pubs\n",
    "from collections import Counter\n",
    "import re\n",
    "import yaml\n",
    "from pathlib import Path"
   ]
  },
  {
   "cell_type": "code",
   "execution_count": 2,
   "metadata": {},
   "outputs": [],
   "source": [
    "keypath = Path(\".zotero\")\n",
    "with keypath.open() as keyfile:\n",
    "    key_text = keyfile.readline().strip()"
   ]
  },
  {
   "cell_type": "code",
   "execution_count": 3,
   "metadata": {},
   "outputs": [],
   "source": [
    "zot = zotero.Zotero(library_id='7642731', library_type='user', api_key=key_text)"
   ]
  },
  {
   "cell_type": "code",
   "execution_count": 4,
   "metadata": {},
   "outputs": [],
   "source": [
    "pubs = zot.publications()"
   ]
  },
  {
   "cell_type": "code",
   "execution_count": 5,
   "metadata": {},
   "outputs": [],
   "source": [
    "filtered_pubs = filter_pubs(pubs)"
   ]
  },
  {
   "cell_type": "code",
   "execution_count": 6,
   "metadata": {},
   "outputs": [],
   "source": [
    "all_mains = [item2main(x) for x in filtered_pubs]"
   ]
  },
  {
   "cell_type": "code",
   "execution_count": 7,
   "metadata": {},
   "outputs": [
    {
     "data": {
      "text/plain": [
       "{'params': {'key': '6IQH5VV5', 'notes': 'DOI: 10.5281/zenodo.10393038'},\n",
       " 'author': [{'name': {'given': 'Josef', 'family': 'Fruehwald'}}],\n",
       " 'title': 'syllabifyr: v0.1.1',\n",
       " 'date': '2020-10-24',\n",
       " 'date-format': 'YYYY',\n",
       " 'description': 'v0.1.1',\n",
       " 'abstract': 'The goal of `syllabifyr` is to provide tidy syllabification of phonetic transcriptions. So far, only CMU dict transcriptions are supported.',\n",
       " 'citation': {'type': 'software',\n",
       "  'issued': '2020-10-24',\n",
       "  'url': 'https://jofrhwld.github.io/syllabifyr/',\n",
       "  'version': 'v0.1.1'}}"
      ]
     },
     "execution_count": 7,
     "metadata": {},
     "output_type": "execute_result"
    }
   ],
   "source": [
    "all_mains[0]"
   ]
  },
  {
   "cell_type": "code",
   "execution_count": 8,
   "metadata": {},
   "outputs": [],
   "source": [
    "def make_file_names(all_mains):\n",
    "    first_aut = [x[\"author\"][0][\"name\"][\"family\"] for x in all_mains]\n",
    "    years = [x[\"date\"].split(\"-\")[0] for x in all_mains]\n",
    "    keys = [x[\"params\"][\"key\"] for x in all_mains]\n",
    "\n",
    "    all_stem = [f\"{aut}_{year}_{key}\" for aut, year, key in zip(first_aut, years, keys)]\n",
    "\n",
    "    all_stem = [re.sub(r\"_$\", \"\", x) for x in all_stem]\n",
    "    return all_stem"
   ]
  },
  {
   "cell_type": "code",
   "execution_count": 9,
   "metadata": {},
   "outputs": [],
   "source": [
    "all_stems = make_file_names(all_mains)"
   ]
  },
  {
   "cell_type": "code",
   "execution_count": 10,
   "metadata": {},
   "outputs": [
    {
     "data": {
      "text/plain": [
       "['Fruehwald_2020_6IQH5VV5',\n",
       " 'Fruehwald_2023_MW4ESNC8',\n",
       " 'Rosenfelder_2011_M3E7A7LS',\n",
       " 'Rosenfelder_2015_K57PJ2RE',\n",
       " 'Rosenfelder_2022_TRXWWXD2',\n",
       " 'Fruehwald_2023_GY5I9QMZ',\n",
       " 'Fruehwald_2019_URYFVWHE',\n",
       " 'Tanner_2020_GH2LZM4Y',\n",
       " 'Purse_2022_LIGPGR5R',\n",
       " 'Mielke_2019_U5C56KNR',\n",
       " 'Labov_2013_QZP9CAP8',\n",
       " 'Fruehwald_2013_W28LR5KT',\n",
       " 'Fruehwald_2011_LPQN5R3M',\n",
       " 'Fruehwald_2022_H347UNLS',\n",
       " 'Fruehwald_2017_ETG527QQ',\n",
       " 'Fruehwald_2012_7HNEQZ7H',\n",
       " 'Fruehwald_2008_IZLBZKZV',\n",
       " 'Fruehwald_2007_MG8DFJEK',\n",
       " 'Boyd_2021_733Q4MMI',\n",
       " 'Fruehwald_2016_TCTQU8FS',\n",
       " 'Wieling_2016_FU9RXCUV',\n",
       " 'Sneller_2019_8ERVHBSG',\n",
       " 'Fruehwald_2015_TJI9T9W6',\n",
       " 'Fruehwald_2017_258NF56V',\n",
       " 'Fruehwald_2016_34D4IRNY',\n",
       " 'Fruehwald_2013_H3BZPAT7']"
      ]
     },
     "execution_count": 10,
     "metadata": {},
     "output_type": "execute_result"
    }
   ],
   "source": [
    "all_stems"
   ]
  },
  {
   "cell_type": "code",
   "execution_count": 11,
   "metadata": {},
   "outputs": [],
   "source": [
    "out_path = Path(\"research\",\"papers\")"
   ]
  },
  {
   "cell_type": "code",
   "execution_count": 12,
   "metadata": {},
   "outputs": [],
   "source": [
    "for stem, item in zip(all_stems, all_mains):\n",
    "    out_file = out_path.joinpath(stem).with_suffix(\".qmd\")\n",
    "    if not out_file.exists():\n",
    "        with out_file.open(mode = \"w\"):\n",
    "            qmd_string = \"---\\n\"+yaml.dump(item)+\"\\n---\"\n",
    "            out_file.write_text(qmd_string)"
   ]
  },
  {
   "cell_type": "code",
   "execution_count": null,
   "metadata": {},
   "outputs": [],
   "source": []
  }
 ],
 "metadata": {
  "kernelspec": {
   "display_name": "site",
   "language": "python",
   "name": "python3"
  },
  "language_info": {
   "codemirror_mode": {
    "name": "ipython",
    "version": 3
   },
   "file_extension": ".py",
   "mimetype": "text/x-python",
   "name": "python",
   "nbconvert_exporter": "python",
   "pygments_lexer": "ipython3",
   "version": "3.11.4"
  }
 },
 "nbformat": 4,
 "nbformat_minor": 2
}

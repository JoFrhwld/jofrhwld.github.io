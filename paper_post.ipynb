{
 "cells": [
  {
   "cell_type": "markdown",
   "metadata": {},
   "source": [
    "# Parse bibtex to produce posts\n",
    "\n",
    "- Depends: https://github.com/aclements/biblib\n",
    "\n",
    "**Note** not the version available on pypi"
   ]
  },
  {
   "cell_type": "markdown",
   "metadata": {},
   "source": []
  },
  {
   "cell_type": "code",
   "execution_count": 1,
   "metadata": {},
   "outputs": [],
   "source": [
    "import biblib.bib\n",
    "import sys\n",
    "import yaml\n",
    "from collections import Counter\n",
    "import re"
   ]
  },
  {
   "cell_type": "code",
   "execution_count": 2,
   "metadata": {},
   "outputs": [],
   "source": [
    "bib_file = \"fruehwald.bib\"\n",
    "\n",
    "with open(bib_file, 'r') as fp:\n",
    "    db = biblib.bib.Parser().parse(fp, log_fp=sys.stderr).get_entries()"
   ]
  },
  {
   "cell_type": "code",
   "execution_count": 3,
   "metadata": {},
   "outputs": [
    {
     "data": {
      "text/plain": [
       "odict_keys(['fruehwald2010', 'fruehwald2007', 'fruehwald_evaluation_2008', 'fruehwald_phonetic_2011', 'fruehwald2011', 'fruehwald2012', 'fruehwald_spread_2008', 'fruehwald_phonological_2013', '100years', 'fruehwald2013b', 'fave_1.2.2', 'fruehwald2013a', 'fruehwald2014', 'fruehwald_prolegomena_2016', 'fruehwald_filled_2016', 'fruehwald_im_2015', 'sneller_using_2019', 'wieling_variation_2016', 'fruehwald_response_2017', 'fruehwald2016a', 'fruehwald2017c', 'fruehwald_simulation_2008', 'boyd_evaluation_2015', 'fruehwald_role_2017', 'boyd_crosslinguistic_2021', 'tanner_toward_2020', 'fruehwald_is_2019', 'mielke_age_2019', 'fruehwald_study_2022'])"
      ]
     },
     "execution_count": 3,
     "metadata": {},
     "output_type": "execute_result"
    }
   ],
   "source": [
    "db.keys()"
   ]
  },
  {
   "cell_type": "code",
   "execution_count": 4,
   "metadata": {},
   "outputs": [
    {
     "data": {
      "text/plain": [
       "['language change',\n",
       " 'phonetics',\n",
       " 'phonology',\n",
       " 'lexical diffusion',\n",
       " 'opcacity',\n",
       " 'sound change']"
      ]
     },
     "execution_count": 4,
     "metadata": {},
     "output_type": "execute_result"
    }
   ],
   "source": [
    "[x.strip() for x in db[\"fruehwald_spread_2008\"][\"keywords\"].split(\",\")]"
   ]
  },
  {
   "cell_type": "code",
   "execution_count": 5,
   "metadata": {},
   "outputs": [
    {
     "data": {
      "text/plain": [
       "[Name(first='Josef', von='', last='Fruehwald', jr='')]"
      ]
     },
     "execution_count": 5,
     "metadata": {},
     "output_type": "execute_result"
    }
   ],
   "source": [
    "db[\"fruehwald_spread_2008\"].authors()"
   ]
  },
  {
   "cell_type": "code",
   "execution_count": 6,
   "metadata": {},
   "outputs": [],
   "source": [
    "def make_post(db):\n",
    "\n",
    "    paper_entries = [db[key] for key in db if db[key].typ in [\"article\", \"inproceedings\", \"incollection\"]]\n",
    "    date_list = []\n",
    "    years = [entry[\"year\"] for entry in paper_entries if \"year\" in entry]\n",
    "    year_set = set(years)\n",
    "    year_dict = {year : 0 for year in year_set}\n",
    "    year_dict[\"2099\"] = 0 \n",
    "    scrub = r'[^\\w ]+'\n",
    "    space_rep = r\"\\s+\"\n",
    "    for entry in paper_entries:\n",
    "        out_dict = {\"layout\" : \"publication\"}\n",
    "        if 'year' in entry:\n",
    "            year = entry[\"year\"]\n",
    "            out_dict[\"year\"] = year\n",
    "            fake_date = year + \"-1-\" + str(year_dict[year]+1)\n",
    "        else:\n",
    "            year = \"2099\"\n",
    "            out_dict[\"year\"] = \"forthcoming\"\n",
    "            fake_date = year + \"-1-\" + str(year_dict[year]+1)\n",
    "\n",
    "        #print(fake_date)\n",
    "        year_dict[year] += 1\n",
    "\n",
    "        title = entry[\"title\"].replace(\"{\", \"\").replace(\"}\", \"\")\n",
    "        out_dict[\"title\"] = title\n",
    "        clean_title = re.sub(scrub, \"\", title)\n",
    "        url_title = re.sub(r'\\s+', \"_\", clean_title).lower()\n",
    "        url_short_title = \"_\".join(url_title.split(\"_\")[0:5])\n",
    "        post_title = fake_date + \"-\" + url_short_title + \".md\"\n",
    "\n",
    "        authors_db = entry.authors()\n",
    "        authors_list = [re.sub(r'\\s+', ' ', \" \".join(author)).rstrip() for author in authors_db]\n",
    "       \n",
    "        out_dict[\"author\"] = authors_list\n",
    "        if \"journal\" in entry:\n",
    "            out_dict[\"published\"] = re.sub(scrub, \"\", entry[\"journal\"])\n",
    "        elif \"booktitle\" in entry:\n",
    "            out_dict[\"published\"] = re.sub(scrub, \"\", entry[\"booktitle\"])\n",
    "        else:\n",
    "            out_dict[\"published\"] = \"\"\n",
    "\n",
    "        if \"url\" in entry:\n",
    "            out_dict[\"p_url\"] = entry[\"url\"]\n",
    "\n",
    "        if \"keywords\" in entry:\n",
    "            out_dict[\"tags\"] = [x.strip().lower() for x in entry[\"keywords\"].split(\",\")]\n",
    "\n",
    "        if_copy = [\"volume\", \"doi\", \"number\", \"pages\" , \"abstract\"]\n",
    "        out_dict = out_dict | {key : entry[key] for key in if_copy if key in entry}\n",
    "        out_dict[\"category\"] = \"paper\"\n",
    "        out_path = \"research/_posts/\"+post_title\n",
    "        with open(out_path, 'w') as file:\n",
    "            file.write(\"---\\n\")\n",
    "            yaml.dump(out_dict, file)\n",
    "            file.write(\"---\")"
   ]
  },
  {
   "cell_type": "code",
   "execution_count": 7,
   "metadata": {},
   "outputs": [],
   "source": [
    "make_post(db)"
   ]
  },
  {
   "cell_type": "code",
   "execution_count": 8,
   "metadata": {},
   "outputs": [
    {
     "data": {
      "text/plain": [
       "['misc',\n",
       " 'article',\n",
       " 'misc',\n",
       " 'misc',\n",
       " 'article',\n",
       " 'inproceedings',\n",
       " 'inproceedings',\n",
       " 'inproceedings',\n",
       " 'article',\n",
       " 'misc',\n",
       " 'misc',\n",
       " 'phdthesis',\n",
       " 'misc',\n",
       " 'misc',\n",
       " 'article',\n",
       " 'article',\n",
       " 'article',\n",
       " 'article',\n",
       " 'article',\n",
       " 'article',\n",
       " 'article',\n",
       " 'misc',\n",
       " 'article',\n",
       " 'article',\n",
       " 'article',\n",
       " 'article',\n",
       " 'inproceedings',\n",
       " 'inproceedings',\n",
       " 'incollection']"
      ]
     },
     "execution_count": 8,
     "metadata": {},
     "output_type": "execute_result"
    }
   ],
   "source": [
    "[db[key].typ for key in db]"
   ]
  },
  {
   "cell_type": "code",
   "execution_count": null,
   "metadata": {},
   "outputs": [],
   "source": []
  }
 ],
 "metadata": {
  "interpreter": {
   "hash": "31f2aee4e71d21fbe5cf8b01ff0e069b9275f58929596ceb00d14d90e3e16cd6"
  },
  "kernelspec": {
   "display_name": "Python 3.9.5 64-bit",
   "language": "python",
   "name": "python3"
  },
  "language_info": {
   "codemirror_mode": {
    "name": "ipython",
    "version": 3
   },
   "file_extension": ".py",
   "mimetype": "text/x-python",
   "name": "python",
   "nbconvert_exporter": "python",
   "pygments_lexer": "ipython3",
   "version": "3.9.5"
  },
  "orig_nbformat": 4
 },
 "nbformat": 4,
 "nbformat_minor": 2
}

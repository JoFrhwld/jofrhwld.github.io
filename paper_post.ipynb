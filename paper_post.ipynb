{
 "cells": [
  {
   "cell_type": "markdown",
   "metadata": {},
   "source": [
    "# Parse bibtex to produce posts\n",
    "\n",
    "- Depends: https://github.com/aclements/biblib\n",
    "\n",
    "**Note** not the version available on pypi"
   ]
  },
  {
   "cell_type": "markdown",
   "metadata": {},
   "source": []
  },
  {
   "cell_type": "code",
   "execution_count": 1,
   "metadata": {},
   "outputs": [],
   "source": [
    "import biblib.bib\n",
    "import sys\n",
    "import yaml\n",
    "from collections import Counter\n",
    "import re"
   ]
  },
  {
   "cell_type": "code",
   "execution_count": 2,
   "metadata": {},
   "outputs": [],
   "source": [
    "bib_file = \"fruehwald.bib\"\n",
    "\n",
    "with open(bib_file, 'r') as fp:\n",
    "    db = biblib.bib.Parser().parse(fp, log_fp=sys.stderr).get_entries()"
   ]
  },
  {
   "cell_type": "code",
   "execution_count": 3,
   "metadata": {},
   "outputs": [
    {
     "data": {
      "text/plain": [
       "odict_keys(['fruehwald2010', 'fruehwald2013b', 'fave_1.2.2', 'fruehwald2012', '100years', 'fruehwald_filled_2016', 'fruehwald_phonological_2013', 'wieling_variation_2016', 'fruehwald2017c', 'sneller_using_2019', 'boyd_evaluation_2015', 'boyd_crosslinguistic_2021', 'tanner_toward_2020', 'fruehwald_is_2019', 'mielke_age_2019', 'fruehwald_study_2022', 'fruehwald_im_2015', 'fruehwald_prolegomena_2016', 'fruehwald_response_2017', 'fruehwald2011', 'fruehwald_phonetic_2011', 'fruehwald_role_2017', 'fruehwald_simulation_2008', 'fruehwald2016a', 'fruehwald2007', 'fruehwald_evaluation_2008', 'fruehwald_spread_2008', 'fruehwald2013a', 'fruehwald2014', 'purse_frequency_2022'])"
      ]
     },
     "execution_count": 3,
     "metadata": {},
     "output_type": "execute_result"
    }
   ],
   "source": [
    "db.keys()"
   ]
  },
  {
   "cell_type": "code",
   "execution_count": 4,
   "metadata": {},
   "outputs": [
    {
     "data": {
      "text/plain": [
       "['language change',\n",
       " 'phonology',\n",
       " 'sound change',\n",
       " 'phonetics',\n",
       " 'lexical diffusion',\n",
       " 'opcacity']"
      ]
     },
     "execution_count": 4,
     "metadata": {},
     "output_type": "execute_result"
    }
   ],
   "source": [
    "[x.strip() for x in db[\"fruehwald_spread_2008\"][\"keywords\"].split(\",\")]"
   ]
  },
  {
   "cell_type": "code",
   "execution_count": 5,
   "metadata": {},
   "outputs": [
    {
     "data": {
      "text/plain": [
       "[Name(first='Josef', von='', last='Fruehwald', jr='')]"
      ]
     },
     "execution_count": 5,
     "metadata": {},
     "output_type": "execute_result"
    }
   ],
   "source": [
    "db[\"fruehwald_spread_2008\"].authors()"
   ]
  },
  {
   "cell_type": "code",
   "execution_count": 6,
   "metadata": {},
   "outputs": [
    {
     "data": {
      "text/plain": [
       "'1'"
      ]
     },
     "execution_count": 6,
     "metadata": {},
     "output_type": "execute_result"
    }
   ],
   "source": [
    "m2n = {'January'   :\"1\",\n",
    "       'February'  :\"2\",\n",
    "       'March'     :\"3\", \n",
    "       'April'     :\"4\",\n",
    "       'May'       :\"5\",\n",
    "       'June'      :\"6\",\n",
    "       'July'      :\"7\",\n",
    "       'August'    :\"8\",\n",
    "       'September' :\"9\",\n",
    "       'October'   :\"10\",\n",
    "       'November'  :\"11\" ,\n",
    "       'December'  :\"12\"}\n",
    "\n",
    "m2n[\"January\"]"
   ]
  },
  {
   "cell_type": "code",
   "execution_count": 7,
   "metadata": {},
   "outputs": [],
   "source": [
    "def make_post(db):\n",
    "\n",
    "    paper_entries = [db[key] for key in db if db[key].typ in [\"article\", \"inproceedings\", \"incollection\"]]\n",
    "    date_list = []\n",
    "    years = [entry[\"year\"] for entry in paper_entries if \"year\" in entry]\n",
    "    year_set = set(years)\n",
    "    year_dict = {year : 0 for year in year_set}\n",
    "    year_dict[\"2099\"] = 0 \n",
    "    scrub = r'[^\\w ]+'\n",
    "    space_rep = r\"\\s+\"\n",
    "    for entry in paper_entries:\n",
    "        out_dict = {\"layout\" : \"publication\"}\n",
    "        if 'year' in entry:\n",
    "            year = entry[\"year\"]\n",
    "            out_dict[\"year\"] = year\n",
    "            if 'month' in entry:\n",
    "                month = m2n[entry[\"month\"]]\n",
    "            else:\n",
    "                month = \"1\"\n",
    "            fake_date =f\"{year}-{month}-{year_dict[year]+1}\"\n",
    "        else:\n",
    "            year = \"2099\"\n",
    "            month = \"1\"\n",
    "            out_dict[\"year\"] = \"forthcoming\"\n",
    "            fake_date = f\"{year}-{month}-{year_dict[year]+1}\"\n",
    "\n",
    "        #print(fake_date)\n",
    "        year_dict[year] += 1\n",
    "\n",
    "        title = entry[\"title\"].replace(\"{\", \"\").replace(\"}\", \"\")\n",
    "        out_dict[\"title\"] = title\n",
    "        clean_title = re.sub(scrub, \"\", title)\n",
    "        url_title = re.sub(r'\\s+', \"_\", clean_title).lower()\n",
    "        url_short_title = \"_\".join(url_title.split(\"_\")[0:5])\n",
    "        post_title = fake_date + \"-\" + url_short_title + \".md\"\n",
    "\n",
    "        authors_db = entry.authors()\n",
    "        authors_list = [re.sub(r'\\s+', ' ', \" \".join(author)).rstrip() for author in authors_db]\n",
    "       \n",
    "        out_dict[\"author\"] = authors_list\n",
    "        if \"journal\" in entry:\n",
    "            out_dict[\"published\"] = re.sub(scrub, \"\", entry[\"journal\"])\n",
    "        elif \"booktitle\" in entry:\n",
    "            out_dict[\"published\"] = re.sub(scrub, \"\", entry[\"booktitle\"])\n",
    "        else:\n",
    "            out_dict[\"published\"] = \"\"\n",
    "\n",
    "        if \"url\" in entry:\n",
    "            out_dict[\"p_url\"] = entry[\"url\"]\n",
    "\n",
    "        if \"keywords\" in entry:\n",
    "            out_dict[\"tags\"] = [x.strip().lower() for x in entry[\"keywords\"].split(\",\")]\n",
    "\n",
    "        if_copy = [\"volume\", \"doi\", \"number\", \"pages\" , \"abstract\"]\n",
    "        out_dict = out_dict | {key : entry[key] for key in if_copy if key in entry}\n",
    "        out_dict[\"category\"] = \"paper\"\n",
    "        out_path = \"research/_posts/\"+post_title\n",
    "        with open(out_path, 'w') as file:\n",
    "            file.write(\"---\\n\")\n",
    "            yaml.dump(out_dict, file)\n",
    "            file.write(\"---\")"
   ]
  },
  {
   "cell_type": "code",
   "execution_count": 8,
   "metadata": {},
   "outputs": [],
   "source": [
    "make_post(db)"
   ]
  },
  {
   "cell_type": "code",
   "execution_count": 9,
   "metadata": {},
   "outputs": [
    {
     "data": {
      "text/plain": [
       "Entry([('title', 'Frequency and morphological complexity in variation'),\n",
       "       ('volume', '7'),\n",
       "       ('issn', '2397-1835'),\n",
       "       ('url', 'https://www.glossa-journal.org/article/id/5839/'),\n",
       "       ('doi', '10.16995/glossa.5839'),\n",
       "       ('abstract',\n",
       "        'Broad interest in probabilistic aspects of language has reignited debates about a potential delineation between the shape of an abstract grammar and patterns of language in use. A central topic in this debate is the relationship between measures capturing aspects of language use, such as word frequency, and patterns of variation. While it has become common practice to attend to frequency measures in studies of linguistic variation, fundamental questions about exactly what linguistic unit’s frequency it is appropriate to measure in each case, and what this implies about the representations or processing mechanisms at play, remain underexplored. In the present study, we compare how three frequency measures account for variance in Coronal Stop Deletion (CSD) based on large-scale corpus data from Philadelphia English: whole-word frequency, stem frequency, and conditional (whole-word/stem) frequency. While there is an effect of all three measures on CSD outcomes in monomorphemes, the effect of conditional frequency is by far the most robust. Furthermore, only conditional frequency has an effect on CSD rates in -ed suffixed words. Thus, we suggest that frequency effects in CSD are best interpreted in terms of stem-conditional predictability of a suffix or word-edge. These results lend support to the importance of asking these fundamental questions about usage measures, and suggest that contemporary approaches to frequency should take morphological complexity into account.'),\n",
       "       ('language', 'eng'),\n",
       "       ('number', '1'),\n",
       "       ('urldate', '2022-09-29'),\n",
       "       ('journal', 'Glossa: a journal of general linguistics'),\n",
       "       ('author',\n",
       "        'Purse, Ruaridh and Fruehwald, Josef and Tamminga, Meredith'),\n",
       "       ('month', 'September'),\n",
       "       ('year', '2022'),\n",
       "       ('note', 'Number: 1 Publisher: Open Library of Humanities'),\n",
       "       ('keywords',\n",
       "        'CSD, frequency, quantitative methods, td deletion, variation'),\n",
       "       ('file',\n",
       "        'Full Text PDF:/Users/joseffruehwald/Zotero/storage/DSGJJM24/Purse et al. - 2022 - Frequency and morphological complexity in variatio.pdf:application/pdf;Snapshot:/Users/joseffruehwald/Zotero/storage/KA2QMY55/5839.html:text/html')])"
      ]
     },
     "execution_count": 9,
     "metadata": {},
     "output_type": "execute_result"
    }
   ],
   "source": [
    "db['purse_frequency_2022']"
   ]
  },
  {
   "cell_type": "code",
   "execution_count": null,
   "metadata": {},
   "outputs": [],
   "source": []
  }
 ],
 "metadata": {
  "kernelspec": {
   "display_name": "Python 3.10.6 ('authoring')",
   "language": "python",
   "name": "python3"
  },
  "language_info": {
   "codemirror_mode": {
    "name": "ipython",
    "version": 3
   },
   "file_extension": ".py",
   "mimetype": "text/x-python",
   "name": "python",
   "nbconvert_exporter": "python",
   "pygments_lexer": "ipython3",
   "version": "3.10.6"
  },
  "orig_nbformat": 4,
  "vscode": {
   "interpreter": {
    "hash": "35e4315ef4b11a5a2313c01b6d059baca8efdf525dbbee67e7877090923b4199"
   }
  }
 },
 "nbformat": 4,
 "nbformat_minor": 2
}

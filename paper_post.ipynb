{
 "cells": [
  {
   "cell_type": "markdown",
   "metadata": {},
   "source": [
    "# Parse bibtex to produce posts\n",
    "\n",
    "- Depends: https://github.com/aclements/biblib\n",
    "\n",
    "**Note** not the version available on pypi"
   ]
  },
  {
   "cell_type": "code",
   "execution_count": 67,
   "metadata": {},
   "outputs": [],
   "source": [
    "import biblib.bib\n",
    "import sys\n",
    "import yaml\n",
    "from collections import Counter\n",
    "import re"
   ]
  },
  {
   "cell_type": "code",
   "execution_count": 87,
   "metadata": {},
   "outputs": [],
   "source": [
    "bib_file = \"fruehwald.bib\"\n",
    "\n",
    "with open(bib_file, 'r') as fp:\n",
    "    db = biblib.bib.Parser().parse(fp, log_fp=sys.stderr).get_entries()"
   ]
  },
  {
   "cell_type": "code",
   "execution_count": 34,
   "metadata": {},
   "outputs": [
    {
     "data": {
      "text/plain": [
       "odict_keys(['fruehwald2010', 'fruehwald2007', 'fruehwald_evaluation_2008', 'fruehwald_phonetic_2011', 'fruehwald2011', 'fruehwald2012', 'fruehwald_spread_2008', 'fruehwaldxx', '100years', 'fave', 'fruehwald2013b', 'fave_1.2.2', 'fruehwald2013a', 'fruehwald2014', 'noauthor_prolegomena_2016', 'fruehwald_filled_2016', 'fruehwald_im_2015', 'sneller_using_2019', 'wieling_variation_2016', 'fruehwald_response_2017', 'fruehwald2017a', 'fruehwald2016a', 'fruehwald2017c'])"
      ]
     },
     "execution_count": 34,
     "metadata": {},
     "output_type": "execute_result"
    }
   ],
   "source": [
    "db.keys()"
   ]
  },
  {
   "cell_type": "code",
   "execution_count": 40,
   "metadata": {},
   "outputs": [
    {
     "data": {
      "text/plain": [
       "'2010'"
      ]
     },
     "execution_count": 40,
     "metadata": {},
     "output_type": "execute_result"
    }
   ],
   "source": [
    "db[\"fruehwald2010\"][\"year\"]"
   ]
  },
  {
   "cell_type": "code",
   "execution_count": 53,
   "metadata": {},
   "outputs": [
    {
     "name": "stdout",
     "output_type": "stream",
     "text": [
      "author: Fruehwald, Josef\n",
      "copyright: All rights reserved\n",
      "note: 'Medium: Paper presented at NAPhC6'\n",
      "title: Vowel {Shifts} and the {Phonology} {Phonetics} {Interface}\n",
      "year: '2010'\n",
      "\n"
     ]
    }
   ],
   "source": [
    "print(yaml.dump(dict(db[\"fruehwald2010\"])))"
   ]
  },
  {
   "cell_type": "code",
   "execution_count": 61,
   "metadata": {},
   "outputs": [],
   "source": [
    "date_list = []\n",
    "years = [db[key][\"year\"] for key in  db if \"year\" in db[key] ]\n",
    "year_set = set(years)\n",
    "year_dict = {year : 0 for year in year_set}"
   ]
  },
  {
   "cell_type": "code",
   "execution_count": 88,
   "metadata": {},
   "outputs": [
    {
     "name": "stdout",
     "output_type": "stream",
     "text": [
      "Fruehwald, Josef\n",
      "Fruehwald, Josef\n",
      "Fruehwald, Josef\n",
      "Fruehwald, Josef\n",
      "Fruehwald, Josef and Gorman, Kyle\n",
      "Fruehwald, Josef\n",
      "Fruehwald, Josef\n",
      "Labov, William and Rosenfelder, Ingrid and Fruehwald, Josef\n",
      "Fruehwald, Josef and Myler, Neil\n",
      "Rosenfelder, Ingrid and Fruehwald, Josef and Evanini, Keelan and Seyfarth, Scott and Gorman, Kyle and Prichard, Hilary and Yuan, Jiahong\n",
      "Fruehwald, Josef\n",
      "Fruehwald, Josef\n",
      "Fruehwald, Josef\n",
      "Fruehwald, Josef\n",
      "Fruehwald, Josef and Myler, Neil\n",
      "Sneller, Betsy and Fruehwald, Josef and Yang, Charles\n",
      "Wieling, M. and Grieve, J. and Bouma, G. and Fruehwald, J. and Coleman, J. and Liberman, M.\n",
      "Fruehwald, Josef\n",
      "Fruehwald, Josef\n",
      "Fruehwald, Josef\n",
      "Fruehwald, Josef\n"
     ]
    }
   ],
   "source": [
    "scrub = r'[^\\w ]+'\n",
    "space_rep = r\"\\s+\"\n",
    "out_path = \"papers/_posts/\"\n",
    "for paper in db:\n",
    "    entry = db[paper]\n",
    "    if 'year' in entry:\n",
    "        year = entry[\"year\"]\n",
    "        fake_date = year + \"-1-\" + str(year_dict[year]+1)\n",
    "        year_dict[year] += 1\n",
    "        #print(fake_date)\n",
    "        title = entry[\"title\"].replace(\"{\", \"\").replace(\"}\", \"\")\n",
    "        clean_title = re.sub(scrub, \"\", title)\n",
    "        url_title = re.sub(r'\\s+', \"_\", clean_title).lower()\n",
    "        url_short_title = \"_\".join(url_title.split(\"_\")[0:5])\n",
    "        post_title = fake_date + \"-\" + url_short_title + \".md\"\n",
    "        if \"author\" in entry:\n",
    "            print(entry[\"author\"])\n",
    "            \n",
    "\n",
    "        \n",
    "        "
   ]
  },
  {
   "cell_type": "code",
   "execution_count": 84,
   "metadata": {},
   "outputs": [
    {
     "data": {
      "text/plain": [
       "odict_keys(['fruehwald2010', 'fruehwald2007', 'fruehwald_evaluation_2008', 'fruehwald_phonetic_2011', 'fruehwald2011', 'fruehwald2012', 'fruehwald_spread_2008', 'fruehwaldxx', '100years', 'fave', 'fruehwald2013b', 'fave_1.2.2', 'fruehwald2013a', 'fruehwald2014', 'noauthor_prolegomena_2016', 'fruehwald_filled_2016', 'fruehwald_im_2015', 'sneller_using_2019', 'wieling_variation_2016', 'fruehwald_response_2017', 'fruehwald2017a', 'fruehwald2016a', 'fruehwald2017c'])"
      ]
     },
     "execution_count": 84,
     "metadata": {},
     "output_type": "execute_result"
    }
   ],
   "source": [
    "db.keys()"
   ]
  },
  {
   "cell_type": "code",
   "execution_count": 86,
   "metadata": {},
   "outputs": [
    {
     "data": {
      "text/plain": [
       "'Fruehwald, Josef'"
      ]
     },
     "execution_count": 86,
     "metadata": {},
     "output_type": "execute_result"
    }
   ],
   "source": []
  },
  {
   "cell_type": "code",
   "execution_count": null,
   "metadata": {},
   "outputs": [],
   "source": [
    "\n"
   ]
  }
 ],
 "metadata": {
  "interpreter": {
   "hash": "31f2aee4e71d21fbe5cf8b01ff0e069b9275f58929596ceb00d14d90e3e16cd6"
  },
  "kernelspec": {
   "display_name": "Python 3.9.5 64-bit",
   "language": "python",
   "name": "python3"
  },
  "language_info": {
   "codemirror_mode": {
    "name": "ipython",
    "version": 3
   },
   "file_extension": ".py",
   "mimetype": "text/x-python",
   "name": "python",
   "nbconvert_exporter": "python",
   "pygments_lexer": "ipython3",
   "version": "3.9.5"
  },
  "orig_nbformat": 4
 },
 "nbformat": 4,
 "nbformat_minor": 2
}
